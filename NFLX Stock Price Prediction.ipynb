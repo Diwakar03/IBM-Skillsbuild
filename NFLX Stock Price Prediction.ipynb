{
 "cells": [
  {
   "cell_type": "code",
   "execution_count": 16,
   "id": "03b40e72",
   "metadata": {},
   "outputs": [],
   "source": [
    "import pandas as pd\n",
    "import numpy as np\n",
    "from numpy import array\n",
    "import math\n",
    "import matplotlib.pyplot as plt\n",
    "from sklearn.preprocessing import MinMaxScaler\n",
    "import tensorflow as tf\n",
    "from tensorflow.keras.models import Sequential\n",
    "from tensorflow.keras.layers import Dense\n",
    "from tensorflow.keras.layers import LSTM\n",
    "%matplotlib inline"
   ]
  },
  {
   "cell_type": "code",
   "execution_count": 3,
   "id": "d33b2fb3",
   "metadata": {},
   "outputs": [],
   "source": [
    "df = pd.read_csv(\"NFLX.csv\")"
   ]
  },
  {
   "cell_type": "code",
   "execution_count": 4,
   "id": "7fafc69b",
   "metadata": {},
   "outputs": [
    {
     "data": {
      "text/html": [
       "<div>\n",
       "<style scoped>\n",
       "    .dataframe tbody tr th:only-of-type {\n",
       "        vertical-align: middle;\n",
       "    }\n",
       "\n",
       "    .dataframe tbody tr th {\n",
       "        vertical-align: top;\n",
       "    }\n",
       "\n",
       "    .dataframe thead th {\n",
       "        text-align: right;\n",
       "    }\n",
       "</style>\n",
       "<table border=\"1\" class=\"dataframe\">\n",
       "  <thead>\n",
       "    <tr style=\"text-align: right;\">\n",
       "      <th></th>\n",
       "      <th>Date</th>\n",
       "      <th>Open</th>\n",
       "      <th>High</th>\n",
       "      <th>Low</th>\n",
       "      <th>Close</th>\n",
       "      <th>Adj Close</th>\n",
       "      <th>Volume</th>\n",
       "    </tr>\n",
       "  </thead>\n",
       "  <tbody>\n",
       "    <tr>\n",
       "      <th>0</th>\n",
       "      <td>2002-05-23</td>\n",
       "      <td>1.156429</td>\n",
       "      <td>1.242857</td>\n",
       "      <td>1.145714</td>\n",
       "      <td>1.196429</td>\n",
       "      <td>1.196429</td>\n",
       "      <td>104790000</td>\n",
       "    </tr>\n",
       "    <tr>\n",
       "      <th>1</th>\n",
       "      <td>2002-05-24</td>\n",
       "      <td>1.214286</td>\n",
       "      <td>1.225000</td>\n",
       "      <td>1.197143</td>\n",
       "      <td>1.210000</td>\n",
       "      <td>1.210000</td>\n",
       "      <td>11104800</td>\n",
       "    </tr>\n",
       "    <tr>\n",
       "      <th>2</th>\n",
       "      <td>2002-05-28</td>\n",
       "      <td>1.213571</td>\n",
       "      <td>1.232143</td>\n",
       "      <td>1.157143</td>\n",
       "      <td>1.157143</td>\n",
       "      <td>1.157143</td>\n",
       "      <td>6609400</td>\n",
       "    </tr>\n",
       "    <tr>\n",
       "      <th>3</th>\n",
       "      <td>2002-05-29</td>\n",
       "      <td>1.164286</td>\n",
       "      <td>1.164286</td>\n",
       "      <td>1.085714</td>\n",
       "      <td>1.103571</td>\n",
       "      <td>1.103571</td>\n",
       "      <td>6757800</td>\n",
       "    </tr>\n",
       "    <tr>\n",
       "      <th>4</th>\n",
       "      <td>2002-05-30</td>\n",
       "      <td>1.107857</td>\n",
       "      <td>1.107857</td>\n",
       "      <td>1.071429</td>\n",
       "      <td>1.071429</td>\n",
       "      <td>1.071429</td>\n",
       "      <td>10154200</td>\n",
       "    </tr>\n",
       "  </tbody>\n",
       "</table>\n",
       "</div>"
      ],
      "text/plain": [
       "         Date      Open      High       Low     Close  Adj Close     Volume\n",
       "0  2002-05-23  1.156429  1.242857  1.145714  1.196429   1.196429  104790000\n",
       "1  2002-05-24  1.214286  1.225000  1.197143  1.210000   1.210000   11104800\n",
       "2  2002-05-28  1.213571  1.232143  1.157143  1.157143   1.157143    6609400\n",
       "3  2002-05-29  1.164286  1.164286  1.085714  1.103571   1.103571    6757800\n",
       "4  2002-05-30  1.107857  1.107857  1.071429  1.071429   1.071429   10154200"
      ]
     },
     "execution_count": 4,
     "metadata": {},
     "output_type": "execute_result"
    }
   ],
   "source": [
    "df.head()"
   ]
  },
  {
   "cell_type": "code",
   "execution_count": 5,
   "id": "c6d9835c",
   "metadata": {},
   "outputs": [
    {
     "data": {
      "text/html": [
       "<div>\n",
       "<style scoped>\n",
       "    .dataframe tbody tr th:only-of-type {\n",
       "        vertical-align: middle;\n",
       "    }\n",
       "\n",
       "    .dataframe tbody tr th {\n",
       "        vertical-align: top;\n",
       "    }\n",
       "\n",
       "    .dataframe thead th {\n",
       "        text-align: right;\n",
       "    }\n",
       "</style>\n",
       "<table border=\"1\" class=\"dataframe\">\n",
       "  <thead>\n",
       "    <tr style=\"text-align: right;\">\n",
       "      <th></th>\n",
       "      <th>Date</th>\n",
       "      <th>Open</th>\n",
       "      <th>High</th>\n",
       "      <th>Low</th>\n",
       "      <th>Close</th>\n",
       "      <th>Adj Close</th>\n",
       "      <th>Volume</th>\n",
       "    </tr>\n",
       "  </thead>\n",
       "  <tbody>\n",
       "    <tr>\n",
       "      <th>5417</th>\n",
       "      <td>2023-11-29</td>\n",
       "      <td>479.000000</td>\n",
       "      <td>480.989990</td>\n",
       "      <td>474.489990</td>\n",
       "      <td>477.190002</td>\n",
       "      <td>477.190002</td>\n",
       "      <td>2855500</td>\n",
       "    </tr>\n",
       "    <tr>\n",
       "      <th>5418</th>\n",
       "      <td>2023-11-30</td>\n",
       "      <td>475.309998</td>\n",
       "      <td>478.589996</td>\n",
       "      <td>470.420013</td>\n",
       "      <td>473.970001</td>\n",
       "      <td>473.970001</td>\n",
       "      <td>4287300</td>\n",
       "    </tr>\n",
       "    <tr>\n",
       "      <th>5419</th>\n",
       "      <td>2023-12-01</td>\n",
       "      <td>473.170013</td>\n",
       "      <td>475.230011</td>\n",
       "      <td>464.600006</td>\n",
       "      <td>465.739990</td>\n",
       "      <td>465.739990</td>\n",
       "      <td>4338100</td>\n",
       "    </tr>\n",
       "    <tr>\n",
       "      <th>5420</th>\n",
       "      <td>2023-12-04</td>\n",
       "      <td>460.989990</td>\n",
       "      <td>461.200012</td>\n",
       "      <td>451.200012</td>\n",
       "      <td>453.899994</td>\n",
       "      <td>453.899994</td>\n",
       "      <td>5157700</td>\n",
       "    </tr>\n",
       "    <tr>\n",
       "      <th>5421</th>\n",
       "      <td>2023-12-05</td>\n",
       "      <td>450.700012</td>\n",
       "      <td>456.390015</td>\n",
       "      <td>449.579987</td>\n",
       "      <td>455.149994</td>\n",
       "      <td>455.149994</td>\n",
       "      <td>3261100</td>\n",
       "    </tr>\n",
       "  </tbody>\n",
       "</table>\n",
       "</div>"
      ],
      "text/plain": [
       "            Date        Open        High         Low       Close   Adj Close  \\\n",
       "5417  2023-11-29  479.000000  480.989990  474.489990  477.190002  477.190002   \n",
       "5418  2023-11-30  475.309998  478.589996  470.420013  473.970001  473.970001   \n",
       "5419  2023-12-01  473.170013  475.230011  464.600006  465.739990  465.739990   \n",
       "5420  2023-12-04  460.989990  461.200012  451.200012  453.899994  453.899994   \n",
       "5421  2023-12-05  450.700012  456.390015  449.579987  455.149994  455.149994   \n",
       "\n",
       "       Volume  \n",
       "5417  2855500  \n",
       "5418  4287300  \n",
       "5419  4338100  \n",
       "5420  5157700  \n",
       "5421  3261100  "
      ]
     },
     "execution_count": 5,
     "metadata": {},
     "output_type": "execute_result"
    }
   ],
   "source": [
    "df.tail()"
   ]
  },
  {
   "cell_type": "code",
   "execution_count": 6,
   "id": "a7d9a48e",
   "metadata": {},
   "outputs": [
    {
     "data": {
      "text/plain": [
       "0         1.196429\n",
       "1         1.210000\n",
       "2         1.157143\n",
       "3         1.103571\n",
       "4         1.071429\n",
       "           ...    \n",
       "5417    477.190002\n",
       "5418    473.970001\n",
       "5419    465.739990\n",
       "5420    453.899994\n",
       "5421    455.149994\n",
       "Name: Close, Length: 5422, dtype: float64"
      ]
     },
     "execution_count": 6,
     "metadata": {},
     "output_type": "execute_result"
    }
   ],
   "source": [
    "df1=df.reset_index()['Close'];df1"
   ]
  },
  {
   "cell_type": "code",
   "execution_count": 7,
   "id": "eaa87a8f",
   "metadata": {},
   "outputs": [
    {
     "data": {
      "text/plain": [
       "0         1.196429\n",
       "1         1.210000\n",
       "2         1.157143\n",
       "3         1.103571\n",
       "4         1.071429\n",
       "           ...    \n",
       "5417    477.190002\n",
       "5418    473.970001\n",
       "5419    465.739990\n",
       "5420    453.899994\n",
       "5421    455.149994\n",
       "Name: Close, Length: 5422, dtype: float64"
      ]
     },
     "execution_count": 7,
     "metadata": {},
     "output_type": "execute_result"
    }
   ],
   "source": [
    "df1"
   ]
  },
  {
   "cell_type": "code",
   "execution_count": 8,
   "id": "eaf0da34",
   "metadata": {},
   "outputs": [],
   "source": [
    "import seaborn as sns"
   ]
  },
  {
   "cell_type": "code",
   "execution_count": 13,
   "id": "2f9ef354",
   "metadata": {},
   "outputs": [],
   "source": [
    "import warnings\n",
    "\n",
    "warnings.filterwarnings(\"ignore\")"
   ]
  },
  {
   "cell_type": "code",
   "execution_count": 14,
   "id": "b4390608",
   "metadata": {},
   "outputs": [
    {
     "data": {
      "text/plain": [
       "<Axes: xlabel='Close', ylabel='Density'>"
      ]
     },
     "execution_count": 14,
     "metadata": {},
     "output_type": "execute_result"
    },
    {
     "data": {
      "image/png": "[encoded data removed]",
      "text/plain": [
       "<Figure size 640x480 with 1 Axes>"
      ]
     },
     "metadata": {},
     "output_type": "display_data"
    }
   ],
   "source": [
    "sns.distplot(df1)"
   ]
  },
  {
   "cell_type": "code",
   "execution_count": 15,
   "id": "5ad4a968",
   "metadata": {},
   "outputs": [
    {
     "data": {
      "text/plain": [
       "(5422,)"
      ]
     },
     "execution_count": 15,
     "metadata": {},
     "output_type": "execute_result"
    }
   ],
   "source": [
    "df1.shape"
   ]
  },
  {
   "cell_type": "code",
   "execution_count": 17,
   "id": "6a36e1bf",
   "metadata": {},
   "outputs": [
    {
     "data": {
      "image/png": "[encoded data removed]",
      "text/plain": [
       "<Figure size 640x480 with 1 Axes>"
      ]
     },
     "metadata": {},
     "output_type": "display_data"
    }
   ],
   "source": [
    "plt.plot(df1);plt.show()"
   ]
  },
  {
   "cell_type": "code",
   "execution_count": 20,
   "id": "50875f99",
   "metadata": {},
   "outputs": [],
   "source": [
    "scaler=MinMaxScaler(feature_range=(0,1))\n",
    "df1=scaler.fit_transform(np.array(df1).reshape(-1,1))"
   ]
  },
  {
   "cell_type": "code",
   "execution_count": 21,
   "id": "18e777f3",
   "metadata": {},
   "outputs": [
    {
     "data": {
      "text/plain": [
       "array([[0.00119131],\n",
       "       [0.00121094],\n",
       "       [0.00113448],\n",
       "       ...,\n",
       "       [0.67316012],\n",
       "       [0.6560334 ],\n",
       "       [0.65784154]])"
      ]
     },
     "execution_count": 21,
     "metadata": {},
     "output_type": "execute_result"
    }
   ],
   "source": [
    "df1"
   ]
  },
  {
   "cell_type": "code",
   "execution_count": 22,
   "id": "030c26fd",
   "metadata": {},
   "outputs": [],
   "source": [
    "training_size=int(len(df1)*0.70)\n",
    "test_size=len(df1)-training_size\n",
    "train_data,test_data=df1[0:training_size,:],df1[training_size:len(df1),:1]"
   ]
  },
  {
   "cell_type": "code",
   "execution_count": 23,
   "id": "97e82b68",
   "metadata": {},
   "outputs": [
    {
     "data": {
      "text/plain": [
       "(3795, 1627)"
      ]
     },
     "execution_count": 23,
     "metadata": {},
     "output_type": "execute_result"
    }
   ],
   "source": [
    "training_size,test_size"
   ]
  },
  {
   "cell_type": "code",
   "execution_count": 24,
   "id": "fe85d013",
   "metadata": {},
   "outputs": [
    {
     "data": {
      "text/plain": [
       "array([[0.00119131],\n",
       "       [0.00121094],\n",
       "       [0.00113448],\n",
       "       [0.00105699],\n",
       "       [0.00101049],\n",
       "       [0.00101773],\n",
       "       [0.00109315],\n",
       "       [0.00107765],\n",
       "       [0.00112002],\n",
       "       [0.00117064]])"
      ]
     },
     "execution_count": 24,
     "metadata": {},
     "output_type": "execute_result"
    }
   ],
   "source": [
    "train_data[:10]"
   ]
  },
  {
   "cell_type": "code",
   "execution_count": 27,
   "id": "8ed3e282",
   "metadata": {},
   "outputs": [],
   "source": [
    "import numpy"
   ]
  },
  {
   "cell_type": "code",
   "execution_count": 25,
   "id": "fbb7cc79",
   "metadata": {},
   "outputs": [],
   "source": [
    "def create_dataset(dataset, time_step=1):\n",
    "\tdataX, dataY = [], []\n",
    "\tfor i in range(len(dataset)-time_step-1):\n",
    "\t\ta = dataset[i:(i+time_step), 0] \n",
    "\t\tdataX.append(a)\n",
    "\t\tdataY.append(dataset[i + time_step, 0])\n",
    "\treturn numpy.array(dataX), numpy.array(dataY)"
   ]
  },
  {
   "cell_type": "code",
   "execution_count": 28,
   "id": "e04610cd",
   "metadata": {},
   "outputs": [],
   "source": [
    "time_step = 100\n",
    "X_train, y_train = create_dataset(train_data, time_step)\n",
    "X_test, ytest = create_dataset(test_data, time_step)"
   ]
  },
  {
   "cell_type": "code",
   "execution_count": 29,
   "id": "2fbfc4e2",
   "metadata": {},
   "outputs": [
    {
     "name": "stdout",
     "output_type": "stream",
     "text": [
      "(3694, 100)\n",
      "(3694,)\n"
     ]
    },
    {
     "data": {
      "text/plain": [
       "(None, None)"
      ]
     },
     "execution_count": 29,
     "metadata": {},
     "output_type": "execute_result"
    }
   ],
   "source": [
    "print(X_train.shape), print(y_train.shape)"
   ]
  },
  {
   "cell_type": "code",
   "execution_count": 30,
   "id": "ad716758",
   "metadata": {},
   "outputs": [
    {
     "name": "stdout",
     "output_type": "stream",
     "text": [
      "(1526, 100)\n",
      "(1526,)\n"
     ]
    },
    {
     "data": {
      "text/plain": [
       "(None, None)"
      ]
     },
     "execution_count": 30,
     "metadata": {},
     "output_type": "execute_result"
    }
   ],
   "source": [
    "print(X_test.shape), print(ytest.shape)"
   ]
  },
  {
   "cell_type": "code",
   "execution_count": 31,
   "id": "47f4e1a5",
   "metadata": {},
   "outputs": [],
   "source": [
    "X_train =X_train.reshape(X_train.shape[0],X_train.shape[1] , 1)\n",
    "X_test = X_test.reshape(X_test.shape[0],X_test.shape[1] , 1)"
   ]
  },
  {
   "cell_type": "code",
   "execution_count": 32,
   "id": "af0b93a5",
   "metadata": {},
   "outputs": [
    {
     "name": "stdout",
     "output_type": "stream",
     "text": [
      "WARNING:tensorflow:From C:\\Intel\\New folder\\Lib\\site-packages\\keras\\src\\backend.py:873: The name tf.get_default_graph is deprecated. Please use tf.compat.v1.get_default_graph instead.\n",
      "\n",
      "WARNING:tensorflow:From C:\\Intel\\New folder\\Lib\\site-packages\\keras\\src\\optimizers\\__init__.py:309: The name tf.train.Optimizer is deprecated. Please use tf.compat.v1.train.Optimizer instead.\n",
      "\n"
     ]
    }
   ],
   "source": [
    "model=Sequential()\n",
    "model.add(LSTM(50,return_sequences=True,input_shape=(100,1)))\n",
    "model.add(LSTM(50,return_sequences=True))\n",
    "model.add(LSTM(50))\n",
    "model.add(Dense(1))\n",
    "model.compile(loss='mean_squared_error',optimizer='adam')"
   ]
  },
  {
   "cell_type": "code",
   "execution_count": 33,
   "id": "4a354773",
   "metadata": {},
   "outputs": [
    {
     "name": "stdout",
     "output_type": "stream",
     "text": [
      "Model: \"sequential\"\n",
      "_________________________________________________________________\n",
      " Layer (type)                Output Shape              Param #   \n",
      "=================================================================\n",
      " lstm (LSTM)                 (None, 100, 50)           10400     \n",
      "                                                                 \n",
      " lstm_1 (LSTM)               (None, 100, 50)           20200     \n",
      "                                                                 \n",
      " lstm_2 (LSTM)               (None, 50)                20200     \n",
      "                                                                 \n",
      " dense (Dense)               (None, 1)                 51        \n",
      "                                                                 \n",
      "=================================================================\n",
      "Total params: 50851 (198.64 KB)\n",
      "Trainable params: 50851 (198.64 KB)\n",
      "Non-trainable params: 0 (0.00 Byte)\n",
      "_________________________________________________________________\n"
     ]
    }
   ],
   "source": [
    "model.summary()"
   ]
  },
  {
   "cell_type": "code",
   "execution_count": 34,
   "id": "2cafa4d7",
   "metadata": {},
   "outputs": [
    {
     "name": "stdout",
     "output_type": "stream",
     "text": [
      "Epoch 1/100\n",
      "WARNING:tensorflow:From C:\\Intel\\New folder\\Lib\\site-packages\\keras\\src\\utils\\tf_utils.py:492: The name tf.ragged.RaggedTensorValue is deprecated. Please use tf.compat.v1.ragged.RaggedTensorValue instead.\n",
      "\n",
      "58/58 [==============================] - 32s 301ms/step - loss: 5.6635e-04 - val_loss: 0.0026\n",
      "Epoch 2/100\n",
      "58/58 [==============================] - 14s 244ms/step - loss: 3.0733e-05 - val_loss: 0.0037\n",
      "Epoch 3/100\n",
      "58/58 [==============================] - 15s 253ms/step - loss: 3.1398e-05 - val_loss: 0.0025\n",
      "Epoch 4/100\n",
      "58/58 [==============================] - 14s 245ms/step - loss: 2.9485e-05 - val_loss: 0.0032\n",
      "Epoch 5/100\n",
      "58/58 [==============================] - 14s 244ms/step - loss: 3.0486e-05 - val_loss: 0.0033\n",
      "Epoch 6/100\n",
      "58/58 [==============================] - 14s 243ms/step - loss: 3.2172e-05 - val_loss: 0.0022\n",
      "Epoch 7/100\n",
      "58/58 [==============================] - 15s 252ms/step - loss: 2.6956e-05 - val_loss: 0.0027\n",
      "Epoch 8/100\n",
      "58/58 [==============================] - 14s 240ms/step - loss: 2.6833e-05 - val_loss: 0.0040\n",
      "Epoch 9/100\n",
      "58/58 [==============================] - 14s 248ms/step - loss: 2.4052e-05 - val_loss: 0.0022\n",
      "Epoch 10/100\n",
      "58/58 [==============================] - 15s 252ms/step - loss: 2.2702e-05 - val_loss: 0.0021\n",
      "Epoch 11/100\n",
      "58/58 [==============================] - 15s 265ms/step - loss: 2.0944e-05 - val_loss: 0.0024\n",
      "Epoch 12/100\n",
      "58/58 [==============================] - 15s 267ms/step - loss: 2.1414e-05 - val_loss: 0.0038\n",
      "Epoch 13/100\n",
      "58/58 [==============================] - 14s 243ms/step - loss: 2.1709e-05 - val_loss: 0.0028\n",
      "Epoch 14/100\n",
      "58/58 [==============================] - 14s 244ms/step - loss: 2.0159e-05 - val_loss: 0.0016\n",
      "Epoch 15/100\n",
      "58/58 [==============================] - 14s 242ms/step - loss: 2.1907e-05 - val_loss: 0.0019\n",
      "Epoch 16/100\n",
      "58/58 [==============================] - 14s 243ms/step - loss: 1.8502e-05 - val_loss: 0.0011\n",
      "Epoch 17/100\n",
      "58/58 [==============================] - 14s 236ms/step - loss: 1.8930e-05 - val_loss: 0.0029\n",
      "Epoch 18/100\n",
      "58/58 [==============================] - 14s 247ms/step - loss: 1.8096e-05 - val_loss: 0.0026\n",
      "Epoch 19/100\n",
      "58/58 [==============================] - 14s 246ms/step - loss: 1.8991e-05 - val_loss: 0.0016\n",
      "Epoch 20/100\n",
      "58/58 [==============================] - 14s 246ms/step - loss: 1.6687e-05 - val_loss: 0.0016\n",
      "Epoch 21/100\n",
      "58/58 [==============================] - 14s 245ms/step - loss: 1.8458e-05 - val_loss: 0.0011\n",
      "Epoch 22/100\n",
      "58/58 [==============================] - 14s 246ms/step - loss: 2.1267e-05 - val_loss: 0.0014\n",
      "Epoch 23/100\n",
      "58/58 [==============================] - 14s 247ms/step - loss: 1.5499e-05 - val_loss: 0.0016\n",
      "Epoch 24/100\n",
      "58/58 [==============================] - 14s 247ms/step - loss: 1.8142e-05 - val_loss: 0.0012\n",
      "Epoch 25/100\n",
      "58/58 [==============================] - 14s 246ms/step - loss: 1.8356e-05 - val_loss: 0.0014\n",
      "Epoch 26/100\n",
      "58/58 [==============================] - 14s 245ms/step - loss: 1.4041e-05 - val_loss: 0.0012\n",
      "Epoch 27/100\n",
      "58/58 [==============================] - 14s 246ms/step - loss: 1.3849e-05 - val_loss: 0.0017\n",
      "Epoch 28/100\n",
      "58/58 [==============================] - 14s 245ms/step - loss: 1.5855e-05 - val_loss: 0.0017\n",
      "Epoch 29/100\n",
      "58/58 [==============================] - 14s 248ms/step - loss: 1.5228e-05 - val_loss: 0.0013\n",
      "Epoch 30/100\n",
      "58/58 [==============================] - 14s 245ms/step - loss: 1.4781e-05 - val_loss: 8.1310e-04\n",
      "Epoch 31/100\n",
      "58/58 [==============================] - 14s 249ms/step - loss: 1.5094e-05 - val_loss: 0.0014\n",
      "Epoch 32/100\n",
      "58/58 [==============================] - 14s 246ms/step - loss: 1.5555e-05 - val_loss: 0.0013\n",
      "Epoch 33/100\n",
      "58/58 [==============================] - 15s 253ms/step - loss: 1.3930e-05 - val_loss: 9.9211e-04\n",
      "Epoch 34/100\n",
      "58/58 [==============================] - 14s 246ms/step - loss: 1.3022e-05 - val_loss: 7.6669e-04\n",
      "Epoch 35/100\n",
      "58/58 [==============================] - 14s 249ms/step - loss: 1.3652e-05 - val_loss: 0.0011\n",
      "Epoch 36/100\n",
      "58/58 [==============================] - 14s 247ms/step - loss: 1.3198e-05 - val_loss: 0.0016\n",
      "Epoch 37/100\n",
      "58/58 [==============================] - 15s 253ms/step - loss: 1.2885e-05 - val_loss: 0.0011\n",
      "Epoch 38/100\n",
      "58/58 [==============================] - 14s 246ms/step - loss: 1.3772e-05 - val_loss: 0.0013\n",
      "Epoch 39/100\n",
      "58/58 [==============================] - 14s 247ms/step - loss: 1.1721e-05 - val_loss: 0.0016\n",
      "Epoch 40/100\n",
      "58/58 [==============================] - 14s 245ms/step - loss: 1.1615e-05 - val_loss: 0.0014\n",
      "Epoch 41/100\n",
      "58/58 [==============================] - 14s 247ms/step - loss: 1.0923e-05 - val_loss: 0.0013\n",
      "Epoch 42/100\n",
      "58/58 [==============================] - 14s 246ms/step - loss: 1.3553e-05 - val_loss: 0.0011\n",
      "Epoch 43/100\n",
      "58/58 [==============================] - 14s 248ms/step - loss: 1.1648e-05 - val_loss: 0.0020\n",
      "Epoch 44/100\n",
      "58/58 [==============================] - 14s 245ms/step - loss: 1.1890e-05 - val_loss: 0.0014\n",
      "Epoch 45/100\n",
      "58/58 [==============================] - 14s 247ms/step - loss: 1.0783e-05 - val_loss: 9.6977e-04\n",
      "Epoch 46/100\n",
      "58/58 [==============================] - 14s 245ms/step - loss: 1.0840e-05 - val_loss: 6.5342e-04\n",
      "Epoch 47/100\n",
      "58/58 [==============================] - 14s 247ms/step - loss: 9.8098e-06 - val_loss: 7.5503e-04\n",
      "Epoch 48/100\n",
      "58/58 [==============================] - 14s 249ms/step - loss: 9.6355e-06 - val_loss: 8.1171e-04\n",
      "Epoch 49/100\n",
      "58/58 [==============================] - 14s 248ms/step - loss: 9.8132e-06 - val_loss: 0.0017\n",
      "Epoch 50/100\n",
      "58/58 [==============================] - 14s 247ms/step - loss: 1.0116e-05 - val_loss: 5.6869e-04\n",
      "Epoch 51/100\n",
      "58/58 [==============================] - 14s 247ms/step - loss: 9.1270e-06 - val_loss: 6.9851e-04\n",
      "Epoch 52/100\n",
      "58/58 [==============================] - 14s 246ms/step - loss: 1.2292e-05 - val_loss: 9.0762e-04\n",
      "Epoch 53/100\n",
      "58/58 [==============================] - 14s 246ms/step - loss: 9.0067e-06 - val_loss: 5.8680e-04\n",
      "Epoch 54/100\n",
      "58/58 [==============================] - 14s 247ms/step - loss: 8.5355e-06 - val_loss: 0.0011\n",
      "Epoch 55/100\n",
      "58/58 [==============================] - 14s 246ms/step - loss: 1.1694e-05 - val_loss: 7.3069e-04\n",
      "Epoch 56/100\n",
      "58/58 [==============================] - 14s 245ms/step - loss: 9.5073e-06 - val_loss: 0.0016\n",
      "Epoch 57/100\n",
      "58/58 [==============================] - 14s 247ms/step - loss: 8.9613e-06 - val_loss: 7.6192e-04\n",
      "Epoch 58/100\n",
      "58/58 [==============================] - 14s 245ms/step - loss: 8.9107e-06 - val_loss: 6.5959e-04\n",
      "Epoch 59/100\n",
      "58/58 [==============================] - 15s 253ms/step - loss: 7.4944e-06 - val_loss: 6.3132e-04\n",
      "Epoch 60/100\n",
      "58/58 [==============================] - 14s 244ms/step - loss: 7.3844e-06 - val_loss: 5.6694e-04\n",
      "Epoch 61/100\n",
      "58/58 [==============================] - 14s 247ms/step - loss: 8.3202e-06 - val_loss: 0.0016\n",
      "Epoch 62/100\n",
      "58/58 [==============================] - 14s 247ms/step - loss: 8.3569e-06 - val_loss: 6.0794e-04\n",
      "Epoch 63/100\n",
      "58/58 [==============================] - 15s 251ms/step - loss: 6.6006e-06 - val_loss: 3.9005e-04\n",
      "Epoch 64/100\n",
      "58/58 [==============================] - 14s 246ms/step - loss: 8.8245e-06 - val_loss: 8.3084e-04\n",
      "Epoch 65/100\n",
      "58/58 [==============================] - 14s 247ms/step - loss: 8.0145e-06 - val_loss: 3.6022e-04\n",
      "Epoch 66/100\n",
      "58/58 [==============================] - 14s 244ms/step - loss: 7.1508e-06 - val_loss: 8.3426e-04\n",
      "Epoch 67/100\n",
      "58/58 [==============================] - 14s 248ms/step - loss: 7.5254e-06 - val_loss: 4.0402e-04\n",
      "Epoch 68/100\n",
      "58/58 [==============================] - 14s 250ms/step - loss: 6.5986e-06 - val_loss: 7.5100e-04\n",
      "Epoch 69/100\n",
      "58/58 [==============================] - 14s 247ms/step - loss: 6.4432e-06 - val_loss: 5.6090e-04\n",
      "Epoch 70/100\n",
      "58/58 [==============================] - 14s 246ms/step - loss: 5.8851e-06 - val_loss: 5.5880e-04\n",
      "Epoch 71/100\n",
      "58/58 [==============================] - 14s 245ms/step - loss: 6.3425e-06 - val_loss: 4.5067e-04\n",
      "Epoch 72/100\n",
      "58/58 [==============================] - 14s 248ms/step - loss: 6.2820e-06 - val_loss: 5.1484e-04\n",
      "Epoch 73/100\n",
      "58/58 [==============================] - 14s 248ms/step - loss: 5.4185e-06 - val_loss: 0.0015\n",
      "Epoch 74/100\n"
     ]
    },
    {
     "name": "stdout",
     "output_type": "stream",
     "text": [
      "58/58 [==============================] - 14s 246ms/step - loss: 5.9750e-06 - val_loss: 6.2520e-04\n",
      "Epoch 75/100\n",
      "58/58 [==============================] - 14s 247ms/step - loss: 6.2260e-06 - val_loss: 3.0363e-04\n",
      "Epoch 76/100\n",
      "58/58 [==============================] - 14s 248ms/step - loss: 6.4460e-06 - val_loss: 3.1331e-04\n",
      "Epoch 77/100\n",
      "58/58 [==============================] - 14s 245ms/step - loss: 6.1149e-06 - val_loss: 6.9326e-04\n",
      "Epoch 78/100\n",
      "58/58 [==============================] - 14s 244ms/step - loss: 5.3291e-06 - val_loss: 6.2440e-04\n",
      "Epoch 79/100\n",
      "58/58 [==============================] - 14s 245ms/step - loss: 5.7401e-06 - val_loss: 5.5462e-04\n",
      "Epoch 80/100\n",
      "58/58 [==============================] - 14s 245ms/step - loss: 5.3711e-06 - val_loss: 4.9793e-04\n",
      "Epoch 81/100\n",
      "58/58 [==============================] - 15s 251ms/step - loss: 4.7989e-06 - val_loss: 3.6966e-04\n",
      "Epoch 82/100\n",
      "58/58 [==============================] - 14s 250ms/step - loss: 6.4128e-06 - val_loss: 6.9376e-04\n",
      "Epoch 83/100\n",
      "58/58 [==============================] - 14s 248ms/step - loss: 4.8281e-06 - val_loss: 6.0399e-04\n",
      "Epoch 84/100\n",
      "58/58 [==============================] - 14s 249ms/step - loss: 4.7723e-06 - val_loss: 3.0864e-04\n",
      "Epoch 85/100\n",
      "58/58 [==============================] - 14s 249ms/step - loss: 4.9458e-06 - val_loss: 7.7054e-04\n",
      "Epoch 86/100\n",
      "58/58 [==============================] - 14s 246ms/step - loss: 5.2360e-06 - val_loss: 2.9512e-04\n",
      "Epoch 87/100\n",
      "58/58 [==============================] - 14s 247ms/step - loss: 4.8142e-06 - val_loss: 6.1398e-04\n",
      "Epoch 88/100\n",
      "58/58 [==============================] - 14s 247ms/step - loss: 5.9952e-06 - val_loss: 3.2498e-04\n",
      "Epoch 89/100\n",
      "58/58 [==============================] - 14s 250ms/step - loss: 4.8334e-06 - val_loss: 3.9986e-04\n",
      "Epoch 90/100\n",
      "58/58 [==============================] - 14s 249ms/step - loss: 4.3179e-06 - val_loss: 4.4537e-04\n",
      "Epoch 91/100\n",
      "58/58 [==============================] - 14s 247ms/step - loss: 5.6613e-06 - val_loss: 7.0279e-04\n",
      "Epoch 92/100\n",
      "58/58 [==============================] - 14s 247ms/step - loss: 5.6249e-06 - val_loss: 6.1328e-04\n",
      "Epoch 93/100\n",
      "58/58 [==============================] - 14s 247ms/step - loss: 4.6203e-06 - val_loss: 5.6477e-04\n",
      "Epoch 94/100\n",
      "58/58 [==============================] - 15s 251ms/step - loss: 4.8463e-06 - val_loss: 3.4640e-04\n",
      "Epoch 95/100\n",
      "58/58 [==============================] - 15s 255ms/step - loss: 4.5314e-06 - val_loss: 5.0592e-04\n",
      "Epoch 96/100\n",
      "58/58 [==============================] - 14s 248ms/step - loss: 4.2514e-06 - val_loss: 3.5667e-04\n",
      "Epoch 97/100\n",
      "58/58 [==============================] - 14s 248ms/step - loss: 5.0853e-06 - val_loss: 8.0264e-04\n",
      "Epoch 98/100\n",
      "58/58 [==============================] - 14s 247ms/step - loss: 4.5754e-06 - val_loss: 4.6441e-04\n",
      "Epoch 99/100\n",
      "58/58 [==============================] - 14s 250ms/step - loss: 4.8438e-06 - val_loss: 6.0590e-04\n",
      "Epoch 100/100\n",
      "58/58 [==============================] - 15s 251ms/step - loss: 5.2184e-06 - val_loss: 3.6034e-04\n"
     ]
    },
    {
     "data": {
      "text/plain": [
       "<keras.src.callbacks.History at 0x2787b7b5150>"
      ]
     },
     "execution_count": 34,
     "metadata": {},
     "output_type": "execute_result"
    }
   ],
   "source": [
    "model.fit(X_train,y_train,validation_data=(X_test,ytest),epochs=100,batch_size=64,verbose=1)"
   ]
  },
  {
   "cell_type": "code",
   "execution_count": 35,
   "id": "076910c6",
   "metadata": {},
   "outputs": [
    {
     "data": {
      "text/plain": [
       "'2.15.0'"
      ]
     },
     "execution_count": 35,
     "metadata": {},
     "output_type": "execute_result"
    }
   ],
   "source": [
    "tf.__version__"
   ]
  },
  {
   "cell_type": "code",
   "execution_count": 36,
   "id": "49ee0499",
   "metadata": {},
   "outputs": [
    {
     "name": "stdout",
     "output_type": "stream",
     "text": [
      "116/116 [==============================] - 11s 68ms/step\n",
      "48/48 [==============================] - 3s 66ms/step\n"
     ]
    }
   ],
   "source": [
    "### Lets Do the prediction and check performance metrics\n",
    "train_predict=model.predict(X_train)\n",
    "test_predict=model.predict(X_test)"
   ]
  },
  {
   "cell_type": "code",
   "execution_count": 37,
   "id": "7a20decc",
   "metadata": {},
   "outputs": [],
   "source": [
    "train_predict=scaler.inverse_transform(train_predict)\n",
    "test_predict=scaler.inverse_transform(test_predict)"
   ]
  },
  {
   "cell_type": "code",
   "execution_count": 38,
   "id": "1e28890d",
   "metadata": {},
   "outputs": [
    {
     "data": {
      "text/plain": [
       "49.77084107581882"
      ]
     },
     "execution_count": 38,
     "metadata": {},
     "output_type": "execute_result"
    }
   ],
   "source": [
    "import math\n",
    "from sklearn.metrics import mean_squared_error\n",
    "math.sqrt(mean_squared_error(y_train,train_predict))"
   ]
  },
  {
   "cell_type": "code",
   "execution_count": 39,
   "id": "8a83b70e",
   "metadata": {},
   "outputs": [
    {
     "data": {
      "text/plain": [
       "394.3074228927035"
      ]
     },
     "execution_count": 39,
     "metadata": {},
     "output_type": "execute_result"
    }
   ],
   "source": [
    "### Test Data RMSE\n",
    "math.sqrt(mean_squared_error(ytest,test_predict))\n"
   ]
  },
  {
   "cell_type": "code",
   "execution_count": 40,
   "id": "6e3f9d8e",
   "metadata": {},
   "outputs": [
    {
     "data": {
      "image/png": "[encoded data removed]",
      "text/plain": [
       "<Figure size 640x480 with 1 Axes>"
      ]
     },
     "metadata": {},
     "output_type": "display_data"
    }
   ],
   "source": [
    "### Plotting \n",
    "# shift train predictions for plotting\n",
    "look_back=100\n",
    "trainPredictPlot = numpy.empty_like(df1)\n",
    "trainPredictPlot[:, :] = np.nan\n",
    "trainPredictPlot[look_back:len(train_predict)+look_back, :] = train_predict\n",
    "# shift test predictions for plotting\n",
    "testPredictPlot = numpy.empty_like(df1)\n",
    "testPredictPlot[:, :] = numpy.nan\n",
    "testPredictPlot[len(train_predict)+(look_back*2)+1:len(df1)-1, :] = test_predict\n",
    "# plot baseline and predictions\n",
    "plt.plot(scaler.inverse_transform(df1))\n",
    "plt.plot(trainPredictPlot)\n",
    "plt.plot(testPredictPlot)\n",
    "plt.show()"
   ]
  },
  {
   "cell_type": "code",
   "execution_count": 41,
   "id": "51659ca2",
   "metadata": {},
   "outputs": [
    {
     "data": {
      "text/plain": [
       "1627"
      ]
     },
     "execution_count": 41,
     "metadata": {},
     "output_type": "execute_result"
    }
   ],
   "source": [
    "len(test_data)"
   ]
  },
  {
   "cell_type": "code",
   "execution_count": 42,
   "id": "bc6a6f06",
   "metadata": {},
   "outputs": [
    {
     "data": {
      "text/plain": [
       "(1, 1286)"
      ]
     },
     "execution_count": 42,
     "metadata": {},
     "output_type": "execute_result"
    }
   ],
   "source": [
    "x_input=test_data[341:].reshape(1,-1)\n",
    "x_input.shape"
   ]
  },
  {
   "cell_type": "code",
   "execution_count": 43,
   "id": "a1d420c1",
   "metadata": {},
   "outputs": [],
   "source": [
    "temp_input=list(x_input)\n",
    "temp_input=temp_input[0].tolist()"
   ]
  },
  {
   "cell_type": "code",
   "execution_count": 44,
   "id": "9c61d258",
   "metadata": {},
   "outputs": [
    {
     "data": {
      "text/plain": [
       "[0.45203151731467617,\n",
       " 0.43316896183733444,\n",
       " 0.41148572844956705,\n",
       " 0.4128888500226621,\n",
       " 0.43598968169666896]"
      ]
     },
     "execution_count": 44,
     "metadata": {},
     "output_type": "execute_result"
    }
   ],
   "source": [
    "temp_input[:5]"
   ]
  },
  {
   "cell_type": "code",
   "execution_count": null,
   "id": "0fbcfb89",
   "metadata": {},
   "outputs": [],
   "source": []
  },
  {
   "cell_type": "code",
   "execution_count": 56,
   "id": "280672c8",
   "metadata": {},
   "outputs": [
    {
     "data": {
      "image/png": "[encoded data removed]",
      "text/plain": [
       "<Figure size 1000x600 with 1 Axes>"
      ]
     },
     "metadata": {},
     "output_type": "display_data"
    }
   ],
   "source": [
    "import matplotlib.pyplot as plt\n",
    "import numpy as np\n",
    "\n",
    "# Assuming df1 contains your original dataset and train_predict, test_predict are your predicted values\n",
    "# ...\n",
    "\n",
    "# Set the figure size\n",
    "plt.figure(figsize=(10, 6))  # Adjust the width and height as needed\n",
    "\n",
    "# Plot baseline and predictions with opacity\n",
    "plt.plot(scaler.inverse_transform(df1), label='Actual Data', alpha=0.6)\n",
    "plt.plot(trainPredictPlot, label='Training Predictions', alpha=0.6)\n",
    "plt.plot(testPredictPlot, label='Test Predictions', alpha=0.6)\n",
    "\n",
    "# Add labels and legend\n",
    "plt.xlabel('Time')\n",
    "plt.ylabel('Value')\n",
    "plt.title('Actual vs Predicted Values')\n",
    "plt.legend()\n",
    "\n",
    "# Show the plot\n",
    "plt.show()\n"
   ]
  },
  {
   "cell_type": "code",
   "execution_count": null,
   "id": "46358c4a",
   "metadata": {},
   "outputs": [],
   "source": []
  }
 ],
 "metadata": {
  "kernelspec": {
   "display_name": "Python 3 (ipykernel)",
   "language": "python",
   "name": "python3"
  },
  "language_info": {
   "codemirror_mode": {
    "name": "ipython",
    "version": 3
   },
   "file_extension": ".py",
   "mimetype": "text/x-python",
   "name": "python",
   "nbconvert_exporter": "python",
   "pygments_lexer": "ipython3",
   "version": "3.11.5"
  }
 },
 "nbformat": 4,
 "nbformat_minor": 5
}
